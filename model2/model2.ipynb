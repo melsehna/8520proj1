{
 "cells": [
  {
   "cell_type": "code",
   "execution_count": 3,
   "metadata": {},
   "outputs": [
    {
     "name": "stdout",
     "output_type": "stream",
     "text": [
      "[(1, 1296)]\n",
      "[(1, 1296), (1, 1296)]\n"
     ]
    },
    {
     "ename": "TypeError",
     "evalue": "can only concatenate tuple (not \"float\") to tuple",
     "output_type": "error",
     "traceback": [
      "\u001b[1;31m---------------------------------------------------------------------------\u001b[0m",
      "\u001b[1;31mTypeError\u001b[0m                                 Traceback (most recent call last)",
      "\u001b[1;32mmelsehna\\8520proj1\\model2\\model2.ipynb Cell 1\u001b[0m line \u001b[0;36m6\n\u001b[0;32m     <a href='vscode-notebook-cell://github%2B7b2276223a312c22726566223a7b2274797065223a342c226964223a226d6f64656c32227d7d/melsehna/8520proj1/model2/model2.ipynb#W0sdnNjb2RlLXZmcw%3D%3D?line=59'>60</a>\u001b[0m     \u001b[39melse\u001b[39;00m:\n\u001b[0;32m     <a href='vscode-notebook-cell://github%2B7b2276223a312c22726566223a7b2274797065223a342c226964223a226d6f64656c32227d7d/melsehna/8520proj1/model2/model2.ipynb#W0sdnNjb2RlLXZmcw%3D%3D?line=60'>61</a>\u001b[0m         downpour \u001b[39m=\u001b[39m get_downpour()\n\u001b[1;32m---> <a href='vscode-notebook-cell://github%2B7b2276223a312c22726566223a7b2274797065223a342c226964223a226d6f64656c32227d7d/melsehna/8520proj1/model2/model2.ipynb#W0sdnNjb2RlLXZmcw%3D%3D?line=61'>62</a>\u001b[0m         height_lake \u001b[39m+\u001b[39m\u001b[39m=\u001b[39m downpour \n\u001b[0;32m     <a href='vscode-notebook-cell://github%2B7b2276223a312c22726566223a7b2274797065223a342c226964223a226d6f64656c32227d7d/melsehna/8520proj1/model2/model2.ipynb#W0sdnNjb2RlLXZmcw%3D%3D?line=62'>63</a>\u001b[0m         day \u001b[39m+\u001b[39m\u001b[39m=\u001b[39m \u001b[39m1\u001b[39m\n\u001b[0;32m     <a href='vscode-notebook-cell://github%2B7b2276223a312c22726566223a7b2274797065223a342c226964223a226d6f64656c32227d7d/melsehna/8520proj1/model2/model2.ipynb#W0sdnNjb2RlLXZmcw%3D%3D?line=63'>64</a>\u001b[0m water_level\u001b[39m.\u001b[39mappend(height_lake)\n",
      "\u001b[1;31mTypeError\u001b[0m: can only concatenate tuple (not \"float\") to tuple"
     ]
    }
   ],
   "source": [
    "# Importing the libraries\n",
    "import math\n",
    "import random\n",
    "import matplotlib.pyplot as plt\n",
    "\n",
    "# List for the water level\n",
    "water_level = []\n",
    "\n",
    "# Setting the parameters\n",
    "height_dam = 1,130 * 12\n",
    "height_lake = 1,108 * 12\n",
    "precip = 0\n",
    "precip_type = 0\n",
    "rain = 0\n",
    "shower = 0\n",
    "downpour = 0\n",
    "day = 1\n",
    "replication = 1\n",
    "\n",
    "# Create random number generators\n",
    "def get_precip():\n",
    "    return random.randint(0,1)\n",
    "def get_precip_type():\n",
    "    return random.randint(0,1)\n",
    "def get_rain():\n",
    "    return random.uniform(0.4,1.2)\n",
    "def get_shower():\n",
    "    return random.uniform(0.05,0.6)\n",
    "def get_downpour():\n",
    "    return random.uniform(1,5)\n",
    "\n",
    "\"\"\"\n",
    "# Create a function to calculate the water level\n",
    "\n",
    "def height_lake():\n",
    "    if precip == False:\n",
    "        return height_lake\n",
    "    elif precip == True:\n",
    "        if rain == True:\n",
    "            return height_lake + rain\n",
    "        elif shower == True:\n",
    "            return height_lake + shower\n",
    "        elif downpour == True:\n",
    "            return height_lake + downpour\n",
    "    return height_lake\n",
    "    \"\"\"\n",
    "\n",
    "while day <= 36500:\n",
    "    precip = get_precip()\n",
    "    precip_type = get_precip_type()\n",
    "    if precip <= 0.2:\n",
    "        if precip_type <= 0.75:\n",
    "            rain = get_rain()\n",
    "            height_lake += rain\n",
    "            day += 1\n",
    "        elif 0.75 < precip_type <= 0.95:\n",
    "            shower = get_shower()\n",
    "            height_lake += shower\n",
    "            day += 1\n",
    "        else:\n",
    "            downpour = get_downpour()\n",
    "            height_lake += downpour \n",
    "            day += 1\n",
    "    water_level.append(height_lake)\n",
    "    print(water_level)\n",
    "\n",
    "\n",
    "\n"
   ]
  },
  {
   "cell_type": "code",
   "execution_count": 5,
   "metadata": {},
   "outputs": [
    {
     "name": "stdout",
     "output_type": "stream",
     "text": [
      "Help on method uniform in module random:\n",
      "\n",
      "uniform(a, b) method of random.Random instance\n",
      "    Get a random number in the range [a, b) or [a, b] depending on rounding.\n",
      "\n"
     ]
    }
   ],
   "source": [
    "import random\n",
    "help(random.uniform)"
   ]
  },
  {
   "cell_type": "code",
   "execution_count": null,
   "metadata": {},
   "outputs": [],
   "source": []
  }
 ],
 "metadata": {
  "kernelspec": {
   "display_name": "Python 3",
   "language": "python",
   "name": "python3"
  },
  "language_info": {
   "codemirror_mode": {
    "name": "ipython",
    "version": 3
   },
   "file_extension": ".py",
   "mimetype": "text/x-python",
   "name": "python",
   "nbconvert_exporter": "python",
   "pygments_lexer": "ipython3",
   "version": "3.11.4"
  },
  "orig_nbformat": 4
 },
 "nbformat": 4,
 "nbformat_minor": 2
}
