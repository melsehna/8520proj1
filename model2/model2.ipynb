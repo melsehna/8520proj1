{
 "cells": [
  {
   "cell_type": "code",
   "execution_count": 11,
   "metadata": {},
   "outputs": [
    {
     "data": {
      "text/plain": [
       "'\\nYou work for Army Corp of Engineers and you are modeling a dam. The goal is to build a dam that will only\\nfail once every 100 years (open the flood gates), on average. You must run 30 replications of 100 years. The\\nlake height is calculated every day. The Corp of Engineers only examines the lake height each day. The lake is\\nassumed to start at normal at a height of 1108’ above sea level. Other assumptions used are:\\n• On any given day, there is a 20% chance that it will rain.\\n• If it rains, then there is a 75% chance that it is a shower, 20% that it is rain, and 5% that it is a\\ndownpour.\\n• If it is a shower, then the rain is uniformly distributed between 0.05” and 0.6”.\\n• If it is rain, then the rain is uniformly distributed between 0.4” and 1.2”.\\n• If it is a downpour, then the rain is uniformly distributed between 1” and 5”.\\n• If the lake is in the high range 5’ over normal, then extra gates open and the lake loses ½” a day.\\nOtherwise, the lake loses ¼” a day.\\n• If it rains less than 0.4”, then the lake only gains the amount that it rains.\\n• If it rains between 0.4” and 1”, then the lake gains twice the amount it rains.\\n• If it rains over 1”, then the lake gains five times the amount it rains.\\n• Every time the flood gates are opened, the height of the lake drops 1’ a day.\\n'"
      ]
     },
     "execution_count": 11,
     "metadata": {},
     "output_type": "execute_result"
    }
   ],
   "source": [
    "\"\"\"\n",
    "You work for Army Corp of Engineers and you are modeling a dam. The goal is to build a dam that will only\n",
    "fail once every 100 years (open the flood gates), on average. You must run 30 replications of 100 years. The\n",
    "lake height is calculated every day. The Corp of Engineers only examines the lake height each day. The lake is\n",
    "assumed to start at normal at a height of 1108’ above sea level. Other assumptions used are:\n",
    "• On any given day, there is a 20% chance that it will rain.\n",
    "• If it rains, then there is a 75% chance that it is a shower, 20% that it is rain, and 5% that it is a\n",
    "downpour.\n",
    "• If it is a shower, then the rain is uniformly distributed between 0.05” and 0.6”.\n",
    "• If it is rain, then the rain is uniformly distributed between 0.4” and 1.2”.\n",
    "• If it is a downpour, then the rain is uniformly distributed between 1” and 5”.\n",
    "• If the lake is in the high range 5’ over normal, then extra gates open and the lake loses ½” a day.\n",
    "Otherwise, the lake loses ¼” a day.\n",
    "• If it rains less than 0.4”, then the lake only gains the amount that it rains.\n",
    "• If it rains between 0.4” and 1”, then the lake gains twice the amount it rains.\n",
    "• If it rains over 1”, then the lake gains five times the amount it rains.\n",
    "• Every time the flood gates are opened, the height of the lake drops 1’ a day.\n",
    "\"\"\""
   ]
  },
  {
   "cell_type": "code",
   "execution_count": 23,
   "metadata": {},
   "outputs": [
    {
     "name": "stdout",
     "output_type": "stream",
     "text": [
      "The dam failed 3765 times in 30 replications.\n",
      "The dam failed 125.5 times on average in 30 replications.\n"
     ]
    }
   ],
   "source": [
    "# Importing the libraries\n",
    "import math\n",
    "import random\n",
    "import matplotlib.pyplot as plt\n",
    "\n",
    "# List for the water level\n",
    "water_level = []\n",
    "\n",
    "# Setting the parameters\n",
    "height_dam = 1120 * 12\n",
    "height_lake = 1108 * 12\n",
    "precip = 0\n",
    "precip_type = 0\n",
    "rain = 0\n",
    "shower = 0\n",
    "downpour = 0\n",
    "amount_precip = 0\n",
    "dam_failure = 0\n",
    "day = 1\n",
    "replication = 1\n",
    "\n",
    "# Create random number generators\n",
    "def get_precip():\n",
    "    return random.random()\n",
    "def get_precip_type():\n",
    "    return random.random()\n",
    "def get_rain():\n",
    "    return random.uniform(0.4,1.2)\n",
    "def get_shower():\n",
    "    return random.uniform(0.05,0.6)\n",
    "def get_downpour():\n",
    "    return random.uniform(1,5)\n",
    "\n",
    "while replication <= 30:\n",
    "    # while day <= 36500:\n",
    "    while day <= (365 * 100):\n",
    "        precip = get_precip()\n",
    "        precip_type = get_precip_type()\n",
    "        # if it rains, define how much rain\n",
    "        if precip <= 0.2:\n",
    "                if 0 <= precip_type <= 0.75:\n",
    "                    rain = get_rain()\n",
    "                    amount_precip = rain\n",
    "                elif 0.75 < precip_type <= 0.95:\n",
    "                    shower = get_shower()\n",
    "                    amount_precip = shower\n",
    "                else:\n",
    "                    downpour = get_downpour()\n",
    "                    amount_precip = downpour\n",
    "        # if it doesn't rain, no rain\n",
    "        else:\n",
    "            amount_precip = 0\n",
    "        # if rain, add to lake height\n",
    "        if amount_precip > 0:\n",
    "            if amount_precip < 0.4:\n",
    "                height_lake += amount_precip\n",
    "            elif 0.4 <= amount_precip <= 1:\n",
    "                height_lake += (amount_precip * 2)\n",
    "            elif amount_precip > 1:\n",
    "                height_lake += (amount_precip * 5)\n",
    "        # if the lake is 5' over normal, extra gates open, lose 1/2\" a day\n",
    "        if height_lake >= (1108 * 12) + (5 * 12):\n",
    "            height_lake -= 0.5\n",
    "        else:\n",
    "            height_lake -= 0.25\n",
    "        # if lake height > dam height, dam fails, flood conditions\n",
    "        if height_lake > height_dam:\n",
    "            dam_failure += 1\n",
    "            height_lake -= 12\n",
    "            day += 1\n",
    "        else:\n",
    "            day += 1\n",
    "    height_lake = 1108 * 12\n",
    "    amount_precip = 0\n",
    "    day = 1\n",
    "    replication +=1\n",
    "\n",
    "average_dam_failure = dam_failure / 30\n",
    "\n",
    "print(\"The dam failed\", dam_failure, \"times in 30 replications.\")\n",
    "print(\"The dam failed\", average_dam_failure, \"times on average in 30 replications.\")"
   ]
  },
  {
   "cell_type": "code",
   "execution_count": null,
   "metadata": {},
   "outputs": [],
   "source": []
  }
 ],
 "metadata": {
  "kernelspec": {
   "display_name": "Python 3",
   "language": "python",
   "name": "python3"
  },
  "language_info": {
   "codemirror_mode": {
    "name": "ipython",
    "version": 3
   },
   "file_extension": ".py",
   "mimetype": "text/x-python",
   "name": "python",
   "nbconvert_exporter": "python",
   "pygments_lexer": "ipython3",
   "version": "3.11.4"
  },
  "orig_nbformat": 4
 },
 "nbformat": 4,
 "nbformat_minor": 2
}
