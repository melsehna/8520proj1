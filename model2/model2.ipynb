{
 "cells": [
  {
   "cell_type": "code",
   "execution_count": null,
   "metadata": {},
   "outputs": [],
   "source": [
    "\"\"\"\n",
    "You work for Army Corp of Engineers and you are modeling a dam. The goal is to build a dam that will only\n",
    "fail once every 100 years (open the flood gates), on average. You must run 30 replications of 100 years. The\n",
    "lake height is calculated every day. The Corp of Engineers only examines the lake height each day. The lake is\n",
    "assumed to start at normal at a height of 1108’ above sea level. Other assumptions used are:\n",
    "• On any given day, there is a 20% chance that it will rain.\n",
    "• If it rains, then there is a 75% chance that it is a shower, 20% that it is rain, and 5% that it is a\n",
    "downpour.\n",
    "• If it is a shower, then the rain is uniformly distributed between 0.05” and 0.6”.\n",
    "• If it is rain, then the rain is uniformly distributed between 0.4” and 1.2”.\n",
    "• If it is a downpour, then the rain is uniformly distributed between 1” and 5”.\n",
    "• If the lake is in the high range 5’ over normal, then extra gates open and the lake loses ½” a day.\n",
    "Otherwise, the lake loses ¼” a day.\n",
    "• If it rains less than 0.4”, then the lake only gains the amount that it rains.\n",
    "• If it rains between 0.4” and 1”, then the lake gains twice the amount it rains.\n",
    "• If it rains over 1”, then the lake gains five times the amount it rains.\n",
    "• Every time the flood gates are opened, the height of the lake drops 1’ a day.\n",
    "\"\"\""
   ]
  },
  {
   "cell_type": "code",
   "execution_count": 7,
   "metadata": {},
   "outputs": [
    {
     "name": "stdout",
     "output_type": "stream",
     "text": [
      "[82513.71417567533]\n"
     ]
    }
   ],
   "source": [
    "# Importing the libraries\n",
    "import math\n",
    "import random\n",
    "import matplotlib.pyplot as plt\n",
    "\n",
    "# List for the water level\n",
    "water_level = []\n",
    "\n",
    "# Setting the parameters\n",
    "height_dam = 1130 * 12\n",
    "height_lake = 1108 * 12\n",
    "precip = 0\n",
    "precip_type = 0\n",
    "rain = 0\n",
    "shower = 0\n",
    "downpour = 0\n",
    "dam_failure = 0\n",
    "day = 1\n",
    "replication = 1\n",
    "\n",
    "# Create random number generators\n",
    "def get_precip():\n",
    "    return random.randint(0,1)\n",
    "def get_precip_type():\n",
    "    return random.randint(0,1)\n",
    "def get_rain():\n",
    "    return random.uniform(0.4,1.2)\n",
    "def get_shower():\n",
    "    return random.uniform(0.05,0.6)\n",
    "def get_downpour():\n",
    "    return random.uniform(1,5)\n",
    "\n",
    "\"\"\"\n",
    "# Create a function to calculate the water level\n",
    "\n",
    "def height_lake():\n",
    "    if precip == False:\n",
    "        return height_lake\n",
    "    elif precip == True:\n",
    "        if rain == True:\n",
    "            return height_lake + rain\n",
    "        elif shower == True:\n",
    "            return height_lake + shower\n",
    "        elif downpour == True:\n",
    "            return height_lake + downpour\n",
    "    return height_lake\n",
    "    \"\"\"\n",
    "\n",
    "# while day <= 36500:\n",
    "while day <= 36500:\n",
    "    precip = get_precip()\n",
    "    precip_type = get_precip_type()\n",
    "    if precip <= 0.2:\n",
    "            if precip_type <= 0.75:\n",
    "                rain = get_rain()\n",
    "                height_lake += rain\n",
    "                day += 1\n",
    "            elif 0.75 < precip_type <= 0.95:\n",
    "                shower = get_shower()\n",
    "                height_lake += shower\n",
    "                day += 1\n",
    "            else:\n",
    "                downpour = get_downpour()\n",
    "                height_lake += downpour \n",
    "                day += 1\n",
    "if precip <= 0.2:\n",
    "        if precip_type <= 0.75:\n",
    "            rain = get_rain()\n",
    "            height_lake += rain\n",
    "            day += 1\n",
    "        elif 0.75 < precip_type <= 0.95:\n",
    "            shower = get_shower()\n",
    "            height_lake += shower\n",
    "            day += 1\n",
    "        else:\n",
    "            downpour = get_downpour()\n",
    "            height_lake += downpour \n",
    "            day += 1\n",
    "        water_level.append(height_lake)\n",
    "else:\n",
    "    if height_lake >= height_dam + (5 * 12):\n",
    "        dam_failure += 1\n",
    "        height_lake = 1108 * 12\n",
    "        day = 1\n",
    "        replication += 1\n",
    "    else:\n",
    "        # height_lake -= \n",
    "        day += 1\n",
    "        water_level.append(height_lake)\n",
    "# if height_lake >= height_dam:\n",
    "#     print(\"The dam failed on day\", day)\n",
    "# else:\n",
    "#     print(\"The dam did not fail on day\", day)\n",
    "#     print(\"The water level was\", height_lake)\n",
    "#     print(\"The water level was\", height_lake/12, \"feet\")\n",
    "\n",
    "precip = get_precip()\n",
    "precip_type = get_precip_type()\n",
    "\n",
    "\n",
    "\n"
   ]
  },
  {
   "cell_type": "code",
   "execution_count": 5,
   "metadata": {},
   "outputs": [
    {
     "name": "stdout",
     "output_type": "stream",
     "text": [
      "Help on method uniform in module random:\n",
      "\n",
      "uniform(a, b) method of random.Random instance\n",
      "    Get a random number in the range [a, b) or [a, b] depending on rounding.\n",
      "\n"
     ]
    }
   ],
   "source": [
    "import random\n",
    "help(random.uniform)"
   ]
  },
  {
   "cell_type": "code",
   "execution_count": null,
   "metadata": {},
   "outputs": [],
   "source": []
  }
 ],
 "metadata": {
  "kernelspec": {
   "display_name": "Python 3",
   "language": "python",
   "name": "python3"
  },
  "language_info": {
   "codemirror_mode": {
    "name": "ipython",
    "version": 3
   },
   "file_extension": ".py",
   "mimetype": "text/x-python",
   "name": "python",
   "nbconvert_exporter": "python",
   "pygments_lexer": "ipython3",
   "version": "3.11.4"
  },
  "orig_nbformat": 4
 },
 "nbformat": 4,
 "nbformat_minor": 2
}
