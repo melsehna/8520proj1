{
 "cells": [
  {
   "cell_type": "code",
   "execution_count": 15,
   "metadata": {},
   "outputs": [
    {
     "ename": "KeyboardInterrupt",
     "evalue": "",
     "output_type": "error",
     "traceback": [
      "\u001b[1;31m---------------------------------------------------------------------------\u001b[0m",
      "\u001b[1;31mKeyboardInterrupt\u001b[0m                         Traceback (most recent call last)",
      "Cell \u001b[1;32mIn[15], line 46\u001b[0m\n\u001b[0;32m     44\u001b[0m         utilisation \u001b[39m==\u001b[39m \u001b[39m0\u001b[39m\n\u001b[0;32m     45\u001b[0m         queue \u001b[39m==\u001b[39m \u001b[39m0\u001b[39m\n\u001b[1;32m---> 46\u001b[0m \u001b[39mwhile\u001b[39;00m t \u001b[39m<\u001b[39m\u001b[39m=\u001b[39m \u001b[39m160\u001b[39m:\n\u001b[0;32m     47\u001b[0m         \u001b[39mif\u001b[39;00m next_arrival \u001b[39m<\u001b[39m next_dep:\n\u001b[0;32m     48\u001b[0m                 t \u001b[39m+\u001b[39m\u001b[39m=\u001b[39m next_arrival\n",
      "\u001b[1;31mKeyboardInterrupt\u001b[0m: "
     ]
    }
   ],
   "source": [
    "# import libraries\n",
    "import math\n",
    "import random\n",
    "\n",
    "def get_next_arrival_sub(): \n",
    "        next_arrival = random.expovariate(0.25)\n",
    "        arrival_times.append(next_arrival)\n",
    "        return next_arrival\n",
    "\n",
    "def get_next_dep_sub():\n",
    "        next_dep = random.expovariate(0.2)\n",
    "        departure_times.append(next_dep)\n",
    "        return next_dep\n",
    "\n",
    "# function to define statistics, queue, cumulative waiting time in queue, \n",
    "# cumulative waiting time in the system\n",
    "\"\"\"\n",
    "def statistics():\n",
    "        if t == next_arrival:\n",
    "                        \n",
    "\"\"\"\n",
    "\n",
    "# Create and initialize list of 160 random arrival and departure times\n",
    "arrival_times = []\n",
    "departure_times = []\n",
    "\n",
    "# Initialize time counter, ranges from 0-160\n",
    "t = 0\n",
    "\n",
    "# Initialize replication counter (from 0-30, 0-100, and 0-1,000)\n",
    "replications = 1\n",
    "\n",
    "# Initialize next_arrival, next_dep, utilisation, and statistics \n",
    "next_arrival = 0\n",
    "next_dep = 0\n",
    "utilisation = 0\n",
    "queue = 0\n",
    "waiting_time_queue = 0\n",
    "waiting_time_sys = 0\n",
    "\n",
    "if t == 0:\n",
    "        next_arrival == get_next_arrival_sub()\n",
    "        next_dep == float('inf')\n",
    "        utilisation == 0\n",
    "        queue == 0\n",
    "while t <= 160:\n",
    "        if next_arrival < next_dep:\n",
    "                t += next_arrival\n",
    "                if util == 0:\n",
    "                        util = 1\n",
    "                        next_arrival = get_next_arrival_sub()\n",
    "                else:\n",
    "                        queue += 1\n",
    "                        waiting_time_queue += queue * next_arrival\n",
    "                        waiting_time_sys += next_arrival * (util + queue)\n",
    "        else:\n",
    "                t += next_dep\n",
    "                if queue >= 1:\n",
    "                        queue -= 1\n",
    "                        next_dep = get_next_dep_sub\n",
    "                else:\n",
    "                        util = 0\n",
    "                        next_dep = get_next_dep_sub\n",
    "                        waiting_time_queue += queue * next_dep\n",
    "                        waiting_time_sys += next_dep * (util + queue)\n",
    "\n",
    "                \n",
    "        \n",
    "\n",
    "\n",
    "# while t <= 160:\n",
    "#         get_next_arrival_sub()\n",
    "#         t += 1\n",
    "# print(arrival_times)\n"
   ]
  },
  {
   "cell_type": "code",
   "execution_count": 12,
   "metadata": {},
   "outputs": [
    {
     "name": "stdout",
     "output_type": "stream",
     "text": [
      "1.2939799167265233\n"
     ]
    }
   ],
   "source": [
    "import random\n",
    "\n",
    "x = random.expovariate((1/5))\n",
    "print(x)"
   ]
  },
  {
   "cell_type": "code",
   "execution_count": 7,
   "metadata": {},
   "outputs": [
    {
     "name": "stdout",
     "output_type": "stream",
     "text": [
      "Help on method expovariate in module random:\n",
      "\n",
      "expovariate(lambd) method of random.Random instance\n",
      "    Exponential distribution.\n",
      "    \n",
      "    lambd is 1.0 divided by the desired mean.  It should be\n",
      "    nonzero.  (The parameter would be called \"lambda\", but that is\n",
      "    a reserved word in Python.)  Returned values range from 0 to\n",
      "    positive infinity if lambd is positive, and from negative\n",
      "    infinity to 0 if lambd is negative.\n",
      "\n"
     ]
    }
   ],
   "source": [
    "help(random.expovariate)"
   ]
  },
  {
   "cell_type": "code",
   "execution_count": null,
   "metadata": {},
   "outputs": [],
   "source": []
  }
 ],
 "metadata": {
  "kernelspec": {
   "display_name": "Python 3",
   "language": "python",
   "name": "python3"
  },
  "language_info": {
   "codemirror_mode": {
    "name": "ipython",
    "version": 3
   },
   "file_extension": ".py",
   "mimetype": "text/x-python",
   "name": "python",
   "nbconvert_exporter": "python",
   "pygments_lexer": "ipython3",
   "version": "3.11.5"
  },
  "orig_nbformat": 4
 },
 "nbformat": 4,
 "nbformat_minor": 2
}
