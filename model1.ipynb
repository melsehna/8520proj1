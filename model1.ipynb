{
 "cells": [
  {
   "cell_type": "code",
   "execution_count": 2,
   "metadata": {},
   "outputs": [
    {
     "name": "stdout",
     "output_type": "stream",
     "text": [
      "<class 'float'>\n"
     ]
    }
   ],
   "source": [
    "# import libraries\n",
    "import math\n",
    "import random\n",
    "\n",
    "def get_next_arrival_sub(): \n",
    "        next_arrival = random.randint(0,15)\n",
    "        arrival_times.append(next_arrival)\n",
    "        return next_arrival\n",
    "\n",
    "def get_next_dep_sub():\n",
    "        next_dep = random.randint(0,12)\n",
    "        departure_times.append(next_dep)\n",
    "        return next_dep\n",
    "\n",
    "# function to define statistics, queue, cumulative waiting time in queue, \n",
    "# cumulative waiting time in the system\n",
    "def statistics():\n",
    "        if t == next_arrival:\n",
    "                \n",
    "\n",
    "# Create and initialize list of 160 random arrival and departure times\n",
    "arrival_times = []\n",
    "departure_times = []\n",
    "\n",
    "# Initialize time counter, ranges from 0-160\n",
    "t = 0\n",
    "\n",
    "# Initialize replication counter (from 0-30, 0-100, and 0-1,000)\n",
    "replications = 1\n",
    "\n",
    "# Initialize next_arrival, next_dep, utilisation, and statistics \n",
    "next_arrival = 0\n",
    "next_dep = 0\n",
    "utilisation = 0\n",
    "queue = 0\n",
    "waiting_time_queue = 0\n",
    "waiting_time_sys = 0\n",
    "\n",
    "if t == 0:\n",
    "        next_arrival == get_next_arrival_sub()\n",
    "        next_dep == float('inf')\n",
    "        utilisation == 0\n",
    "        queue == 0\n",
    "while t <= 160:\n",
    "        if next_arrival < next_dep:\n",
    "                t == next_arrival\n",
    "                if util == 0:\n",
    "                        util == 1\n",
    "                        next_arrival == get_next_arrival_sub()\n",
    "                \n",
    "        \n",
    "\n",
    "\n",
    "# while t <= 160:\n",
    "#         get_next_arrival_sub()\n",
    "#         t += 1\n",
    "# print(arrival_times)\n"
   ]
  },
  {
   "cell_type": "code",
   "execution_count": null,
   "metadata": {},
   "outputs": [],
   "source": []
  }
 ],
 "metadata": {
  "kernelspec": {
   "display_name": "Python 3",
   "language": "python",
   "name": "python3"
  },
  "language_info": {
   "codemirror_mode": {
    "name": "ipython",
    "version": 3
   },
   "file_extension": ".py",
   "mimetype": "text/x-python",
   "name": "python",
   "nbconvert_exporter": "python",
   "pygments_lexer": "ipython3",
   "version": "3.11.5"
  },
  "orig_nbformat": 4
 },
 "nbformat": 4,
 "nbformat_minor": 2
}
